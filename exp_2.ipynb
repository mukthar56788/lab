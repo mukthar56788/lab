{
  "nbformat": 4,
  "nbformat_minor": 0,
  "metadata": {
    "colab": {
      "provenance": [],
      "authorship_tag": "ABX9TyOsFko300PY3o2mAsuS9+Fv",
      "include_colab_link": true
    },
    "kernelspec": {
      "name": "python3",
      "display_name": "Python 3"
    },
    "language_info": {
      "name": "python"
    }
  },
  "cells": [
    {
      "cell_type": "markdown",
      "metadata": {
        "id": "view-in-github",
        "colab_type": "text"
      },
      "source": [
        "<a href=\"https://colab.research.google.com/github/mukthar56788/lab/blob/main/exp_2.ipynb\" target=\"_parent\"><img src=\"https://colab.research.google.com/assets/colab-badge.svg\" alt=\"Open In Colab\"/></a>"
      ]
    },
    {
      "cell_type": "code",
      "execution_count": 1,
      "metadata": {
        "colab": {
          "base_uri": "https://localhost:8080/"
        },
        "id": "o-mY6yIHUg18",
        "outputId": "3a05bedc-2627-4375-f091-ffe86fac42d4"
      },
      "outputs": [
        {
          "output_type": "stream",
          "name": "stdout",
          "text": [
            "Downloading data from https://www.cs.toronto.edu/~kriz/cifar-10-python.tar.gz\n",
            "\u001b[1m170498071/170498071\u001b[0m \u001b[32m━━━━━━━━━━━━━━━━━━━━\u001b[0m\u001b[37m\u001b[0m \u001b[1m3s\u001b[0m 0us/step\n",
            "(50000, 32, 32, 3) (50000, 1) (10000, 32, 32, 3) (10000, 1)\n"
          ]
        },
        {
          "output_type": "execute_result",
          "data": {
            "text/plain": [
              "(5000, 32, 32, 3)"
            ]
          },
          "metadata": {},
          "execution_count": 1
        }
      ],
      "source": [
        "# @title Default title text\n",
        "import numpy as np\n",
        "import pickle\n",
        "from sklearn import preprocessing\n",
        "from sklearn.model_selection import train_test_split\n",
        "from sklearn.metrics import accuracy_score\n",
        "from sklearn.svm import SVC\n",
        "from sklearn.neighbors import KNeighborsClassifier\n",
        "import tensorflow as tf\n",
        "from tensorflow.keras import layers, models\n",
        "\n",
        "# Load CIFAR-10 dataset\n",
        "\n",
        "# Load in the data\n",
        "data = tf.keras.datasets.cifar10\n",
        "\n",
        "\n",
        "(X_train, y_train), (X_test, y_test) = data.load_data()\n",
        "print(X_train.shape, y_train.shape, X_test.shape, y_test.shape)\n",
        "\n",
        "# Reduce pixel values\n",
        "X_train, X_test = X_train/ 255.0, X_test/ 255.0\n",
        "\n",
        "# flatten the label values\n",
        "y_train, y_test = y_train.flatten(), y_test.flatten()\n",
        "\n",
        "# Reduce dataset size for quick testing\n",
        "# Using 5000 for training and 1000 for testing as an example\n",
        "X_train = X_train[:5000]\n",
        "y_train = y_train[:5000]\n",
        "X_test = X_test[:1000]\n",
        "y_test = y_test[:1000]\n",
        "X_train.shape\n",
        "\n"
      ]
    },
    {
      "cell_type": "code",
      "source": [
        "# SVM classifier using KNN\n",
        "svm_knn = SVC(kernel='linear')\n",
        "X_train_flat = X_train.reshape(X_train.shape[0], -1)\n",
        "X_test_flat = X_test.reshape(X_test.shape[0], -1)\n",
        "svm_knn.fit(X_train_flat, y_train)\n",
        "svm_knn_predictions = svm_knn.predict(X_test_flat)\n",
        "print(svm_knn_predictions[:10])\n",
        "svm_knn_accuracy = accuracy_score(y_test, svm_knn_predictions)\n",
        "print(\"SVM classifier using KNN Accuracy:\", svm_knn_accuracy)\n",
        "\n",
        "# Softmax classifier using KNN\n",
        "softmax_knn = KNeighborsClassifier(n_neighbors=10)  # You can tune n_neighbors\n",
        "softmax_knn.fit(X_train_flat, y_train)\n",
        "softmax_knn_predictions = softmax_knn.predict(X_test_flat)\n",
        "softmax_knn_accuracy = accuracy_score(y_test, softmax_knn_predictions)\n",
        "print(\"Softmax classifier using KNN Accuracy:\", softmax_knn_accuracy)\n"
      ],
      "metadata": {
        "colab": {
          "base_uri": "https://localhost:8080/"
        },
        "id": "Z3DBEpmKcqSe",
        "outputId": "9898b28f-88cd-4aa5-e9c9-48cd325eb519"
      },
      "execution_count": 2,
      "outputs": [
        {
          "output_type": "stream",
          "name": "stdout",
          "text": [
            "[1 1 8 0 4 3 3 6 4 1]\n",
            "SVM classifier using KNN Accuracy: 0.304\n",
            "Softmax classifier using KNN Accuracy: 0.277\n"
          ]
        }
      ]
    },
    {
      "cell_type": "code",
      "source": [
        "# SVM classifier using a 3-layer neural network\n",
        "svm_nn = SVC(kernel='linear')\n",
        "X_train_flat = X_train.reshape(X_train.shape[0], -1)\n",
        "X_test_flat = X_test.reshape(X_test.shape[0], -1)\n",
        "svm_nn.fit(X_train_flat, y_train)\n",
        "svm_nn_predictions = svm_nn.predict(X_test_flat)\n",
        "svm_nn_accuracy = accuracy_score(y_test, svm_nn_predictions)\n",
        "print(\"SVM classifier using a 3-layer neural network Accuracy:\", svm_nn_accuracy)\n",
        "\n",
        "# Softmax classifier using a 3-layer neural network\n",
        "softmax_nn = models.Sequential([\n",
        "    layers.Flatten(input_shape=(32, 32, 3)),\n",
        "    layers.Dense(128, activation='relu'),\n",
        "    layers.Dense(64, activation='relu'),\n",
        "    layers.Dense(10, activation='softmax')\n",
        "])\n",
        "\n",
        "softmax_nn.compile(optimizer='adam',\n",
        "                   loss='sparse_categorical_crossentropy',\n",
        "                   metrics=['accuracy'])\n",
        "\n",
        "history = softmax_nn.fit(X_train, y_train, epochs=5, batch_size=64, validation_data=(X_test, y_test))\n",
        "_, softmax_nn_accuracy = softmax_nn.evaluate(X_test, y_test)\n",
        "print(\"Softmax classifier using a 3-layer neural network Accuracy:\", softmax_nn_accuracy)\n"
      ],
      "metadata": {
        "colab": {
          "base_uri": "https://localhost:8080/"
        },
        "id": "pmpbsq-DdVEG",
        "outputId": "ef314e71-f29e-4d12-9263-af9a688d1367"
      },
      "execution_count": 4,
      "outputs": [
        {
          "output_type": "stream",
          "name": "stdout",
          "text": [
            "SVM classifier using a 3-layer neural network Accuracy: 0.304\n"
          ]
        },
        {
          "output_type": "stream",
          "name": "stderr",
          "text": [
            "/usr/local/lib/python3.11/dist-packages/keras/src/layers/reshaping/flatten.py:37: UserWarning: Do not pass an `input_shape`/`input_dim` argument to a layer. When using Sequential models, prefer using an `Input(shape)` object as the first layer in the model instead.\n",
            "  super().__init__(**kwargs)\n"
          ]
        },
        {
          "output_type": "stream",
          "name": "stdout",
          "text": [
            "Epoch 1/5\n",
            "\u001b[1m79/79\u001b[0m \u001b[32m━━━━━━━━━━━━━━━━━━━━\u001b[0m\u001b[37m\u001b[0m \u001b[1m2s\u001b[0m 16ms/step - accuracy: 0.1657 - loss: 2.2664 - val_accuracy: 0.2600 - val_loss: 2.0335\n",
            "Epoch 2/5\n",
            "\u001b[1m79/79\u001b[0m \u001b[32m━━━━━━━━━━━━━━━━━━━━\u001b[0m\u001b[37m\u001b[0m \u001b[1m2s\u001b[0m 13ms/step - accuracy: 0.2738 - loss: 1.9702 - val_accuracy: 0.3200 - val_loss: 1.9628\n",
            "Epoch 3/5\n",
            "\u001b[1m79/79\u001b[0m \u001b[32m━━━━━━━━━━━━━━━━━━━━\u001b[0m\u001b[37m\u001b[0m \u001b[1m1s\u001b[0m 8ms/step - accuracy: 0.3089 - loss: 1.8965 - val_accuracy: 0.3030 - val_loss: 1.9335\n",
            "Epoch 4/5\n",
            "\u001b[1m79/79\u001b[0m \u001b[32m━━━━━━━━━━━━━━━━━━━━\u001b[0m\u001b[37m\u001b[0m \u001b[1m1s\u001b[0m 8ms/step - accuracy: 0.3241 - loss: 1.8681 - val_accuracy: 0.2810 - val_loss: 1.9965\n",
            "Epoch 5/5\n",
            "\u001b[1m79/79\u001b[0m \u001b[32m━━━━━━━━━━━━━━━━━━━━\u001b[0m\u001b[37m\u001b[0m \u001b[1m1s\u001b[0m 9ms/step - accuracy: 0.3122 - loss: 1.8737 - val_accuracy: 0.3260 - val_loss: 1.8821\n",
            "\u001b[1m32/32\u001b[0m \u001b[32m━━━━━━━━━━━━━━━━━━━━\u001b[0m\u001b[37m\u001b[0m \u001b[1m0s\u001b[0m 3ms/step - accuracy: 0.3431 - loss: 1.8782\n",
            "Softmax classifier using a 3-layer neural network Accuracy: 0.32600000500679016\n"
          ]
        }
      ]
    },
    {
      "cell_type": "code",
      "source": [],
      "metadata": {
        "id": "x99k9SCjedwf"
      },
      "execution_count": null,
      "outputs": []
    }
  ]
}